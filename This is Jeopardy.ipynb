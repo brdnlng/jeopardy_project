{
 "cells": [
  {
   "cell_type": "markdown",
   "metadata": {},
   "source": [
    "# This is Jeopardy!"
   ]
  },
  {
   "cell_type": "markdown",
   "metadata": {},
   "source": [
    "#### Overview"
   ]
  },
  {
   "cell_type": "markdown",
   "metadata": {},
   "source": [
    "This project is slightly different than others you have encountered thus far. Instead of a step-by-step tutorial, this project contains a series of open-ended requirements which describe the project you'll be building. There are many possible ways to correctly fulfill all of these requirements, and you should expect to use the internet, Codecademy, and/or other resources when you encounter a problem that you cannot easily solve."
   ]
  },
  {
   "cell_type": "markdown",
   "metadata": {},
   "source": [
    "#### Project Goals"
   ]
  },
  {
   "cell_type": "markdown",
   "metadata": {},
   "source": [
    "You will work to write several functions that investigate a dataset of _Jeopardy!_ questions and answers. Filter the dataset for topics that you're interested in, compute the average difficulty of those questions, and train to become the next Jeopardy champion!"
   ]
  },
  {
   "cell_type": "markdown",
   "metadata": {},
   "source": [
    "## Prerequisites"
   ]
  },
  {
   "cell_type": "markdown",
   "metadata": {},
   "source": [
    "In order to complete this project, you should have completed the Pandas lessons in the <a href=\"https://www.codecademy.com/learn/paths/analyze-data-with-python\">Analyze Data with Python Skill Path</a>. You can also find those lessons in the <a href=\"https://www.codecademy.com/learn/data-processing-pandas\">Data Analysis with Pandas course</a> or the <a href=\"https://www.codecademy.com/learn/paths/data-science/\">Data Scientist Career Path</a>.\n",
    "\n",
    "Finally, the <a href=\"https://www.codecademy.com/learn/practical-data-cleaning\">Practical Data Cleaning</a> course may also be helpful."
   ]
  },
  {
   "cell_type": "markdown",
   "metadata": {},
   "source": [
    "## Project Requirements"
   ]
  },
  {
   "cell_type": "markdown",
   "metadata": {},
   "source": [
    "1. We've provided a csv file containing data about the game show _Jeopardy!_ in a file named `jeopardy.csv`. Load the data into a DataFrame and investigate its contents. Try to print out specific columns.\n",
    "\n",
    "   Note that in order to make this project as \"real-world\" as possible, we haven't modified the data at all - we're giving it to you exactly how we found it. As a result, this data isn't as \"clean\" as the datasets you normally find on Codecademy. More specifically, there's something odd about the column names. After you figure out the problem with the column names, you may want to rename them to make your life easier for the rest of the project.\n",
    "   \n",
    "   In order to display the full contents of a column, we've added this line of code for you:\n",
    "   \n",
    "   ```py\n",
    "   pd.set_option('display.max_colwidth', None)\n",
    "   ```"
   ]
  },
  {
   "cell_type": "code",
   "execution_count": 2,
   "metadata": {},
   "outputs": [
    {
     "name": "stdout",
     "output_type": "stream",
     "text": [
      "   Show Number    Air Date      Round                         Category  Value  \\\n",
      "0         4680  2004-12-31  Jeopardy!                          HISTORY   $200   \n",
      "1         4680  2004-12-31  Jeopardy!  ESPN's TOP 10 ALL-TIME ATHLETES   $200   \n",
      "2         4680  2004-12-31  Jeopardy!      EVERYBODY TALKS ABOUT IT...   $200   \n",
      "3         4680  2004-12-31  Jeopardy!                 THE COMPANY LINE   $200   \n",
      "4         4680  2004-12-31  Jeopardy!              EPITAPHS & TRIBUTES   $200   \n",
      "\n",
      "                                                                                                      Question  \\\n",
      "0             For the last 8 years of his life, Galileo was under house arrest for espousing this man's theory   \n",
      "1  No. 2: 1912 Olympian; football star at Carlisle Indian School; 6 MLB seasons with the Reds, Giants & Braves   \n",
      "2                     The city of Yuma in this state has a record average of 4,055 hours of sunshine each year   \n",
      "3                         In 1963, live on \"The Art Linkletter Show\", this company served its billionth burger   \n",
      "4     Signer of the Dec. of Indep., framer of the Constitution of Mass., second President of the United States   \n",
      "\n",
      "       Answer  \n",
      "0  Copernicus  \n",
      "1  Jim Thorpe  \n",
      "2     Arizona  \n",
      "3  McDonald's  \n",
      "4  John Adams  \n"
     ]
    }
   ],
   "source": [
    "import pandas as pd\n",
    "pd.set_option('display.max_colwidth', None)\n",
    "\n",
    "jeopardy_data = pd.read_csv('jeopardy.csv')\n",
    "print(jeopardy_data.head())\n",
    "jeopardy_data.rename(columns={\n",
    "    ' Air Date': 'Air Date',\n",
    "    ' Round': 'Round',\n",
    "    ' Category': 'Category',\n",
    "    ' Value': 'Value',\n",
    "    ' Question': 'Question',\n",
    "    ' Answer': 'Answer'},\n",
    "    inplace=True)"
   ]
  },
  {
   "cell_type": "markdown",
   "metadata": {},
   "source": [
    "2. Write a function that filters the dataset for questions that contains all of the words in a list of words. For example, when the list `[\"King\", \"England\"]` was passed to our function, the function returned a DataFrame of 49 rows. Every row had the strings `\"King\"` and `\"England\"` somewhere in its `\" Question\"`.\n",
    "\n",
    "   Test your function by printing out the column containing the question of each row of the dataset."
   ]
  },
  {
   "cell_type": "code",
   "execution_count": 3,
   "metadata": {},
   "outputs": [
    {
     "name": "stdout",
     "output_type": "stream",
     "text": [
      "4953                 Both England's King George V & FDR put their stamp of approval on this \"King of Hobbies\"\n",
      "14912       This country's King Louis IV was nicknamed \"Louis From Overseas\" because he was raised in England\n",
      "21511                            this man and his son ruled England following the execution of King Charles I\n",
      "23810    William the Conqueror was crowned King of England in Westminster Abbey on Christmas Day in this year\n",
      "27555                      This member of the Medici family was the mother-in-law of England's King Charles I\n",
      "Name: Question, dtype: object\n",
      "<class 'pandas.core.frame.DataFrame'>\n",
      "Int64Index: 49 entries, 4953 to 200369\n",
      "Data columns (total 7 columns):\n",
      " #   Column       Non-Null Count  Dtype \n",
      "---  ------       --------------  ----- \n",
      " 0   Show Number  49 non-null     int64 \n",
      " 1   Air Date     49 non-null     object\n",
      " 2   Round        49 non-null     object\n",
      " 3   Category     49 non-null     object\n",
      " 4   Value        49 non-null     object\n",
      " 5   Question     49 non-null     object\n",
      " 6   Answer       49 non-null     object\n",
      "dtypes: int64(1), object(6)\n",
      "memory usage: 3.1+ KB\n",
      "None\n"
     ]
    }
   ],
   "source": [
    "def find_words(df,words):\n",
    "    filtered_data = df.loc[df['Question'].apply(lambda x: all(word in x for word in words))]\n",
    "    return filtered_data\n",
    "\n",
    "filtered_jeopardy = find_words(jeopardy_data,['King','England'])\n",
    "print(filtered_jeopardy['Question'].head())\n",
    "print(filtered_jeopardy.info()) # Note 49 entries"
   ]
  },
  {
   "cell_type": "markdown",
   "metadata": {},
   "source": [
    "3. Test your original function with a few different sets of words to try to find some ways your function breaks. Edit your function so it is more robust.\n",
    "\n",
    "   For example, think about capitalization. We probably want to find questions that contain the word `\"King\"` or `\"king\"`.\n",
    "   \n",
    "   You may also want to check to make sure you don't find rows that contain substrings of your given words. For example, our function found a question that didn't contain the word `\"king\"`, however it did contain the word `\"viking\"` &mdash; it found the `\"king\"` inside `\"viking\"`. Note that this also comes with some drawbacks &mdash; you would no longer find questions that contained words like `\"England's\"`."
   ]
  },
  {
   "cell_type": "code",
   "execution_count": 4,
   "metadata": {},
   "outputs": [
    {
     "name": "stdout",
     "output_type": "stream",
     "text": [
      "4953                    Both England's King George V & FDR put their stamp of approval on this \"King of Hobbies\"\n",
      "6337      In retaliation for Viking raids, this \"Unready\" king of England attacks Norse areas of the Isle of Man\n",
      "9191                    This king of England beat the odds to trounce the French in the 1415 Battle of Agincourt\n",
      "11710               This Scotsman, the first Stuart king of England, was called \"The Wisest Fool in Christendom\"\n",
      "13454                                       It's the number that followed the last king of England named William\n",
      "                                                           ...                                                  \n",
      "204778                                 This southern colony was named for a king of England, the II of that name\n",
      "208742                      Dutch-born king who ruled England jointly with Mary II & is a tasty New Zealand fish\n",
      "213870                In 1781 William Herschel discovered Uranus & initially named it after this king of England\n",
      "216021          His nickname was \"Bertie\", but he used this name & number when he became king of England in 1901\n",
      "216789        This kingdom of England grew from 2 settlements, one founded around 495 by Cerdic & his son Cynric\n",
      "Name: Question, Length: 120, dtype: object\n",
      "<class 'pandas.core.frame.DataFrame'>\n",
      "Int64Index: 120 entries, 4953 to 216789\n",
      "Data columns (total 7 columns):\n",
      " #   Column       Non-Null Count  Dtype \n",
      "---  ------       --------------  ----- \n",
      " 0   Show Number  120 non-null    int64 \n",
      " 1   Air Date     120 non-null    object\n",
      " 2   Round        120 non-null    object\n",
      " 3   Category     120 non-null    object\n",
      " 4   Value        120 non-null    object\n",
      " 5   Question     120 non-null    object\n",
      " 6   Answer       120 non-null    object\n",
      "dtypes: int64(1), object(6)\n",
      "memory usage: 7.5+ KB\n",
      "None\n"
     ]
    }
   ],
   "source": [
    "def find_words(df,words):\n",
    "    # Trying to prevent 'viking' from being found when searching for 'king' -- search for ' king' instead\n",
    "    for i in range(len(words)): words[i] = ' ' + words[i]\n",
    "    # Ensuring all words are found by using.lower()\n",
    "    filtered_data = df.loc[df['Question'].apply(lambda x: all(word.lower() in x.lower() for word in words))]\n",
    "    return filtered_data\n",
    "\n",
    "filtered_jeopardy = find_words(jeopardy_data,['King','England'])\n",
    "print(filtered_jeopardy['Question'])\n",
    "print(filtered_jeopardy.info())\n",
    "\n",
    "# Results: With the first filter, there were 49 entries filtered out. When I updated the filter to lower case all words\n",
    "# there were 152 entries. When I accounted for words that include the words being searched, i.e. 'viking,' there were\n",
    "# 120 entries. There may still be more entries, but at this point I am hoping my results are accurate enough."
   ]
  },
  {
   "cell_type": "markdown",
   "metadata": {},
   "source": [
    "4. We may want to eventually compute aggregate statistics, like `.mean()` on the `\" Value\"` column. But right now, the values in that column are strings. Convert the`\" Value\"` column to floats. If you'd like to, you can create a new column with float values.\n",
    "\n",
    "   Now that you can filter the dataset of question, use your new column that contains the float values of each question to find the \"difficulty\" of certain topics. For example, what is the average value of questions that contain the word `\"King\"`?\n",
    "   \n",
    "   Make sure to use the dataset that contains the float values as the dataset you use in your filtering function."
   ]
  },
  {
   "cell_type": "code",
   "execution_count": 5,
   "metadata": {
    "scrolled": true
   },
   "outputs": [
    {
     "name": "stdout",
     "output_type": "stream",
     "text": [
      "0          200.0\n",
      "1          200.0\n",
      "2          200.0\n",
      "3          200.0\n",
      "4          200.0\n",
      "           ...  \n",
      "216925    2000.0\n",
      "216926    2000.0\n",
      "216927    2000.0\n",
      "216928    2000.0\n",
      "216929       0.0\n",
      "Name: Value_float, Length: 216930, dtype: float64\n"
     ]
    }
   ],
   "source": [
    "jeopardy_data['Value_float'] = jeopardy_data['Value'].apply(lambda x: float(x.strip('$').replace(',','')) if x != 'None' else 0)\n",
    "print(jeopardy_data['Value_float'])"
   ]
  },
  {
   "cell_type": "markdown",
   "metadata": {},
   "source": [
    "5. Write a function that returns the count of unique answers to all of the questions in a dataset. For example, after filtering the entire dataset to only questions containing the word `\"King\"`, we could then find all of the unique answers to those questions. The answer \"Henry VIII\" appeared 55 times and was the most common answer."
   ]
  },
  {
   "cell_type": "code",
   "execution_count": 6,
   "metadata": {},
   "outputs": [
    {
     "name": "stdout",
     "output_type": "stream",
     "text": [
      "Henry VIII                           52\n",
      "Solomon                              32\n",
      "Louis XIV                            31\n",
      "Richard III                          30\n",
      "David                                30\n",
      "                                     ..\n",
      "G.F. Handel                           1\n",
      "Oscar                                 1\n",
      "Henderson                             1\n",
      "(Catherine) Howard                    1\n",
      "a pyramid (the pyramids accepted)     1\n",
      "Name: Answer, Length: 1625, dtype: int64\n"
     ]
    }
   ],
   "source": [
    "def unique_answers(df):\n",
    "    return df['Answer'].value_counts()\n",
    "\n",
    "filtered_jeopardy = find_words(jeopardy_data,['King'])\n",
    "print(unique_answers(filtered_jeopardy))\n",
    "\n",
    "# The discrepancy (52 instead of 55) could be because I excluded 'viking' instances"
   ]
  },
  {
   "cell_type": "markdown",
   "metadata": {},
   "source": [
    "6. Explore from here! This is an incredibly rich dataset, and there are so many interesting things to discover. There are a few columns that we haven't even started looking at yet. Here are some ideas on ways to continue working with this data:\n",
    "\n",
    " * Investigate the ways in which questions change over time by filtering by the date. How many questions from the 90s use the word `\"Computer\"` compared to questions from the 2000s?\n",
    " * Is there a connection between the round and the category? Are you more likely to find certain categories, like `\"Literature\"` in Single Jeopardy or Double Jeopardy?\n",
    " * Build a system to quiz yourself. Grab random questions, and use the <a href=\"https://docs.python.org/3/library/functions.html#input\">input</a> function to get a response from the user. Check to see if that response was right or wrong."
   ]
  },
  {
   "cell_type": "code",
   "execution_count": 7,
   "metadata": {},
   "outputs": [
    {
     "name": "stdout",
     "output_type": "stream",
     "text": [
      "90\n",
      "277\n",
      "              Category  SJ Count  DJ Count\n",
      "0       STUPID ANSWERS       255        15\n",
      "1            POTPOURRI       255       146\n",
      "2               SPORTS       253        81\n",
      "3              ANIMALS       233        79\n",
      "4     AMERICAN HISTORY       227       174\n",
      "...                ...       ...       ...\n",
      "2775   POPES NAMED LEO         2         5\n",
      "2776          VERONICA         1         5\n",
      "2777          ATLANTIS         1         5\n",
      "2778        FOLK MUSIC         1        10\n",
      "2779               POE         1         5\n",
      "\n",
      "[2780 rows x 3 columns]\n"
     ]
    }
   ],
   "source": [
    "# First challenge:\n",
    "jeopardy_90s = jeopardy_data.loc[jeopardy_data['Air Date'].between('1990-01-01','1999-12-31')].reset_index()\n",
    "jeopardy_2000s = jeopardy_data.loc[jeopardy_data['Air Date'].between('2000-01-01','2010-12-31')].reset_index()\n",
    "#print(jeopardy_90s)\n",
    "#print(jeopardy_2000s)\n",
    "print(len(find_words(jeopardy_90s,['Computer'])))\n",
    "print(len(find_words(jeopardy_2000s,['Computer'])))\n",
    "\n",
    "# Second challenge:\n",
    "single_jeopardy = jeopardy_data[jeopardy_data['Round'] == 'Jeopardy!']\n",
    "double_jeopardy = jeopardy_data[jeopardy_data['Round'] == 'Double Jeopardy!']\n",
    "sj_count = single_jeopardy['Category'].value_counts().reset_index().rename(columns = {'Category':'SJ Count', 'index':'Category'})\n",
    "dj_count = double_jeopardy['Category'].value_counts().reset_index().rename(columns = {'Category':'DJ Count', 'index':'Category'})\n",
    "sj_vs_dj = pd.merge(sj_count,dj_count,how=\"inner\")\n",
    "print(sj_vs_dj)\n",
    "\n",
    "# Skipping the third challenge :)"
   ]
  },
  {
   "cell_type": "markdown",
   "metadata": {},
   "source": [
    "## Solution"
   ]
  },
  {
   "cell_type": "markdown",
   "metadata": {},
   "source": [
    "7. Compare your program to our <a href=\"https://content.codecademy.com/PRO/independent-practice-projects/jeopardy/jeopardy_solution.zip\">sample solution code</a> - remember, that your program might look different from ours (and probably will) and that's okay!"
   ]
  },
  {
   "cell_type": "markdown",
   "metadata": {},
   "source": [
    "8. Great work! Visit <a href=\"https://discuss.codecademy.com/t/this-is-jeopardy-challenge-project-python-pandas/462365\">our forums</a> to compare your project to our sample solution code. You can also learn how to host your own solution on GitHub so you can share it with other learners! Your solution might look different from ours, and that's okay! There are multiple ways to solve these projects, and you'll learn more by seeing others' code."
   ]
  },
  {
   "cell_type": "code",
   "execution_count": null,
   "metadata": {},
   "outputs": [],
   "source": []
  }
 ],
 "metadata": {
  "kernelspec": {
   "display_name": "Python 3 (ipykernel)",
   "language": "python",
   "name": "python3"
  },
  "language_info": {
   "codemirror_mode": {
    "name": "ipython",
    "version": 3
   },
   "file_extension": ".py",
   "mimetype": "text/x-python",
   "name": "python",
   "nbconvert_exporter": "python",
   "pygments_lexer": "ipython3",
   "version": "3.9.5"
  }
 },
 "nbformat": 4,
 "nbformat_minor": 2
}
